{
  "nbformat": 4,
  "nbformat_minor": 0,
  "metadata": {
    "colab": {
      "name": "Port_Opt(using libraries).ipynb",
      "provenance": []
    },
    "kernelspec": {
      "name": "python3",
      "display_name": "Python 3"
    },
    "language_info": {
      "name": "python"
    }
  },
  "cells": [
    {
      "cell_type": "code",
      "execution_count": null,
      "metadata": {
        "id": "aoSLAiIakmAg"
      },
      "outputs": [],
      "source": [
        "import numpy as np\n",
        "import pandas as pd\n",
        "import io \n",
        "from pypfopt.efficient_frontier import EfficientFrontier\n",
        "from google.colab import files\n",
        "uploaded=files.upload()\n",
        "covariance_mat=pd.read_excel(io.BytesIO(uploaded['Covariance.xlsx']))\n",
        "covariance_mat=covariance_mat.iloc[:,1:]\n",
        "ef = EfficientFrontier(None,covariance_mat)\n",
        "weights = ef.min_volatility() \n",
        "cleaned_weights = ef.clean_weights() \n",
        "# Get the Keys and store them in a list\n",
        "labels = list(cleaned_weights.keys())\n",
        "# Get the Values and store them in a list\n",
        "values = list(cleaned_weights.values())\n",
        "values=[i*100 for i in values]\n",
        "print(pd.DataFrame(values, index=labels, columns=['Optimal Weights in %']))\n",
        "\n",
        "\"\"\" OUTPUT \n",
        "            Optimal Weights in %\n",
        "APOLLOTYRE                 1.866\n",
        "ASHOKLEY                   0.000\n",
        "BOSCHLTD                  11.505\n",
        "EICHERMOT                  4.862\n",
        "EXIDEIND                   0.000\n",
        "HEROMOTOCO                 0.872\n",
        "M&M                        0.000\n",
        "MARUTI                     0.000\n",
        "MOTHERSUMI                 4.760\n",
        "MRF                        6.348\n",
        "TATAMOTORS                 0.000\n",
        "TVSMOTOR                   0.000\n",
        "ACC                        5.028\n",
        "AMBUJACEM                  0.000\n",
        "GRASIM                     1.526\n",
        "SHREECEM                   0.000\n",
        "ULTRACEMCO                 0.390\n",
        "PIDILITIND                 5.757\n",
        "TATACHEM                   0.000\n",
        "JPASSOCIAT                 0.000\n",
        "LT                         0.000\n",
        "RELINFRA                   0.873\n",
        "ASIANPAINT                20.821\n",
        "BERGEPAINT                 0.000\n",
        "BRITANNIA                 15.067\n",
        "DABUR                      0.000\n",
        "GODREJCP                  11.992\n",
        "HAVELLS                    0.000\n",
        "HINDUNILVR                 0.593\n",
        "ITC                        7.738 \n",
        "\"\"\""
      ]
    }
  ]
}